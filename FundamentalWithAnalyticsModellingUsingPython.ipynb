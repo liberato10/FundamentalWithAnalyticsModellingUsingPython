{
  "nbformat": 4,
  "nbformat_minor": 0,
  "metadata": {
    "colab": {
      "name": "FundamentalWithAnalyticsModellingUsingPython.ipynb",
      "provenance": [],
      "collapsed_sections": [],
      "authorship_tag": "ABX9TyNPjulbZCnjZchnofkWd9DP",
      "include_colab_link": true
    },
    "kernelspec": {
      "name": "python3",
      "display_name": "Python 3"
    },
    "language_info": {
      "name": "python"
    }
  },
  "cells": [
    {
      "cell_type": "markdown",
      "metadata": {
        "id": "view-in-github",
        "colab_type": "text"
      },
      "source": [
        "<a href=\"https://colab.research.google.com/github/liberato10/FundamentalWithAnalyticsModellingUsingPython/blob/main/FundamentalWithAnalyticsModellingUsingPython.ipynb\" target=\"_parent\"><img src=\"https://colab.research.google.com/assets/colab-badge.svg\" alt=\"Open In Colab\"/></a>"
      ]
    },
    {
      "cell_type": "markdown",
      "source": [
        "LIST / LISTS"
      ],
      "metadata": {
        "id": "6hGP2TUa1AR5"
      }
    },
    {
      "cell_type": "code",
      "execution_count": null,
      "metadata": {
        "colab": {
          "base_uri": "https://localhost:8080/"
        },
        "id": "wMGBkKHC0Om-",
        "outputId": "af4eb9c0-83cf-4a24-d3fa-0d2b5a6aa059"
      },
      "outputs": [
        {
          "output_type": "stream",
          "name": "stdout",
          "text": [
            "['Gusion', 'Ling', 'Hanzo']\n",
            "0\n",
            "2\n",
            "Gusion\n",
            "Hanzo\n",
            "['Gusion', 'Ling', 'Hanzo', 'Lancelot']\n",
            "['Gusion', 'Ling', 'Hanzo', 'Lancelot', 'Hayabusa']\n",
            "['Gusion', 'Ling', 'Hanzo', 'Lancelot', 'Hayabusa', 'Amon']\n"
          ]
        }
      ],
      "source": [
        "heroes = ['Gusion', 'Ling', 'Hanzo']\n",
        "print(heroes)\n",
        "print(heroes.index('Gusion'))\n",
        "print(heroes.index('Hanzo'))\n",
        "print(heroes[0])\n",
        "print(heroes[2])\n",
        "heroes.append('Lancelot')\n",
        "print(heroes)\n",
        "heroes.append('Hayabusa')\n",
        "print(heroes)\n",
        "heroes.append('Amon')\n",
        "print(heroes)"
      ]
    }
  ]
}